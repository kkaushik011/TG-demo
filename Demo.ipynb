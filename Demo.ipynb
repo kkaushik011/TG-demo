{
 "cells": [
  {
   "cell_type": "code",
   "execution_count": 1,
   "metadata": {},
   "outputs": [],
   "source": [
    "import pandas as pd"
   ]
  },
  {
   "cell_type": "code",
   "execution_count": 2,
   "metadata": {},
   "outputs": [],
   "source": [
    "data_file= 's3://tg-demo-bucket/category_clicked_android_448.csv'\n",
    "\n",
    "df= pd.read_csv(data_file)"
   ]
  },
  {
   "cell_type": "code",
   "execution_count": 3,
   "metadata": {},
   "outputs": [
    {
     "data": {
      "text/html": [
       "<div>\n",
       "<style scoped>\n",
       "    .dataframe tbody tr th:only-of-type {\n",
       "        vertical-align: middle;\n",
       "    }\n",
       "\n",
       "    .dataframe tbody tr th {\n",
       "        vertical-align: top;\n",
       "    }\n",
       "\n",
       "    .dataframe thead th {\n",
       "        text-align: right;\n",
       "    }\n",
       "</style>\n",
       "<table border=\"1\" class=\"dataframe\">\n",
       "  <thead>\n",
       "    <tr style=\"text-align: right;\">\n",
       "      <th></th>\n",
       "      <th>id</th>\n",
       "      <th>category_name</th>\n",
       "      <th>received_at</th>\n",
       "      <th>time_stamp</th>\n",
       "    </tr>\n",
       "  </thead>\n",
       "  <tbody>\n",
       "    <tr>\n",
       "      <th>0</th>\n",
       "      <td>MTAxNDU4</td>\n",
       "      <td>sports</td>\n",
       "      <td>2020-07-20T23:47:39.667-05:00</td>\n",
       "      <td>NaN</td>\n",
       "    </tr>\n",
       "    <tr>\n",
       "      <th>1</th>\n",
       "      <td>MTAxNDU4</td>\n",
       "      <td>comedy</td>\n",
       "      <td>2020-07-20T23:47:41.926-05:00</td>\n",
       "      <td>NaN</td>\n",
       "    </tr>\n",
       "    <tr>\n",
       "      <th>2</th>\n",
       "      <td>MTAxMjUx</td>\n",
       "      <td>gamer</td>\n",
       "      <td>2020-07-21T00:49:30.754-05:00</td>\n",
       "      <td>NaN</td>\n",
       "    </tr>\n",
       "    <tr>\n",
       "      <th>3</th>\n",
       "      <td>MTAxMjUx</td>\n",
       "      <td>arts_entertainment</td>\n",
       "      <td>2020-07-21T00:49:31.811-05:00</td>\n",
       "      <td>NaN</td>\n",
       "    </tr>\n",
       "    <tr>\n",
       "      <th>4</th>\n",
       "      <td>MTAxMjUx</td>\n",
       "      <td>food_blogger</td>\n",
       "      <td>2020-07-21T00:49:33.519-05:00</td>\n",
       "      <td>NaN</td>\n",
       "    </tr>\n",
       "    <tr>\n",
       "      <th>5</th>\n",
       "      <td>MTAxMTEz</td>\n",
       "      <td>arts_entertainment</td>\n",
       "      <td>2020-07-21T12:23:21.260-05:00</td>\n",
       "      <td>NaN</td>\n",
       "    </tr>\n",
       "    <tr>\n",
       "      <th>6</th>\n",
       "      <td>MTAxMjUx</td>\n",
       "      <td>sports</td>\n",
       "      <td>2020-07-21T15:14:36.900-05:00</td>\n",
       "      <td>NaN</td>\n",
       "    </tr>\n",
       "    <tr>\n",
       "      <th>7</th>\n",
       "      <td>MjYy</td>\n",
       "      <td>event_promoter</td>\n",
       "      <td>2020-07-22T06:33:02.890-05:00</td>\n",
       "      <td>NaN</td>\n",
       "    </tr>\n",
       "    <tr>\n",
       "      <th>8</th>\n",
       "      <td>MjYy</td>\n",
       "      <td>food_blogger</td>\n",
       "      <td>2020-07-22T06:33:46.438-05:00</td>\n",
       "      <td>NaN</td>\n",
       "    </tr>\n",
       "    <tr>\n",
       "      <th>9</th>\n",
       "      <td>MzA1</td>\n",
       "      <td>beauty</td>\n",
       "      <td>2020-07-22T07:42:02.295-05:00</td>\n",
       "      <td>NaN</td>\n",
       "    </tr>\n",
       "  </tbody>\n",
       "</table>\n",
       "</div>"
      ],
      "text/plain": [
       "         id       category_name                    received_at time_stamp\n",
       "0  MTAxNDU4              sports  2020-07-20T23:47:39.667-05:00        NaN\n",
       "1  MTAxNDU4              comedy  2020-07-20T23:47:41.926-05:00        NaN\n",
       "2  MTAxMjUx               gamer  2020-07-21T00:49:30.754-05:00        NaN\n",
       "3  MTAxMjUx  arts_entertainment  2020-07-21T00:49:31.811-05:00        NaN\n",
       "4  MTAxMjUx        food_blogger  2020-07-21T00:49:33.519-05:00        NaN\n",
       "5  MTAxMTEz  arts_entertainment  2020-07-21T12:23:21.260-05:00        NaN\n",
       "6  MTAxMjUx              sports  2020-07-21T15:14:36.900-05:00        NaN\n",
       "7      MjYy      event_promoter  2020-07-22T06:33:02.890-05:00        NaN\n",
       "8      MjYy        food_blogger  2020-07-22T06:33:46.438-05:00        NaN\n",
       "9      MzA1              beauty  2020-07-22T07:42:02.295-05:00        NaN"
      ]
     },
     "execution_count": 3,
     "metadata": {},
     "output_type": "execute_result"
    }
   ],
   "source": [
    "df.head(10)"
   ]
  },
  {
   "cell_type": "code",
   "execution_count": null,
   "metadata": {},
   "outputs": [],
   "source": []
  }
 ],
 "metadata": {
  "kernelspec": {
   "display_name": "conda_python3",
   "language": "python",
   "name": "conda_python3"
  },
  "language_info": {
   "codemirror_mode": {
    "name": "ipython",
    "version": 3
   },
   "file_extension": ".py",
   "mimetype": "text/x-python",
   "name": "python",
   "nbconvert_exporter": "python",
   "pygments_lexer": "ipython3",
   "version": "3.6.10"
  }
 },
 "nbformat": 4,
 "nbformat_minor": 4
}
